{
 "cells": [
  {
   "cell_type": "markdown",
   "metadata": {},
   "source": [
    "# Library imports"
   ]
  },
  {
   "cell_type": "code",
   "execution_count": 1,
   "metadata": {},
   "outputs": [
    {
     "name": "stderr",
     "output_type": "stream",
     "text": [
      "Matplotlib is building the font cache; this may take a moment.\n"
     ]
    }
   ],
   "source": [
    "import pandas as pd\n",
    "import numpy as np\n",
    "import matplotlib.pyplot as plt"
   ]
  },
  {
   "cell_type": "markdown",
   "metadata": {},
   "source": [
    "# Initiate the covid-19 dataset library"
   ]
  },
  {
   "cell_type": "code",
   "execution_count": 2,
   "metadata": {},
   "outputs": [
    {
     "name": "stdout",
     "output_type": "stream",
     "text": [
      "We have invested a lot of time and effort in creating COVID-19 Data Hub, please cite the following when using it:\n",
      "\n",
      "\t\u001b[1mGuidotti, E., Ardia, D., (2020), \"COVID-19 Data Hub\", Journal of Open Source Software 5(51):2376, doi: 10.21105/joss.02376.\u001b[0m\n",
      "\n",
      "A BibTeX entry for LaTeX users is\n",
      "\n",
      "\t@Article{,\n",
      "\t\ttitle = {COVID-19 Data Hub},\n",
      "\t\tyear = {2020},\n",
      "\t\tdoi = {10.21105/joss.02376},\n",
      "\t\tauthor = {Emanuele Guidotti and David Ardia},\n",
      "\t\tjournal = {Journal of Open Source Software},\n",
      "\t\tvolume = {5},\n",
      "\t\tnumber = {51},\n",
      "\t\tpages = {2376},\n",
      "\t}\n",
      "\n",
      "\u001b[33mTo hide this message use 'verbose = False'.\u001b[0m\n"
     ]
    }
   ],
   "source": [
    "from covid19dh import covid19\n",
    "x, src = covid19()"
   ]
  },
  {
   "cell_type": "markdown",
   "metadata": {},
   "source": [
    "# Australia dataframe initiate"
   ]
  },
  {
   "cell_type": "code",
   "execution_count": 3,
   "metadata": {},
   "outputs": [],
   "source": [
    "x_Aus, src_Aus = covid19(\"Australia\", verbose = False) # AUS"
   ]
  },
  {
   "cell_type": "code",
   "execution_count": 4,
   "metadata": {},
   "outputs": [],
   "source": [
    "AusDF = x_Aus[['date', 'vaccines', 'confirmed', 'population']]\n",
    "\n",
    "AusDF_Restrictions = x_Aus[['date', 'school_closing',\n",
    "       'workplace_closing', 'cancel_events', 'gatherings_restrictions',\n",
    "       'transport_closing', 'stay_home_restrictions',\n",
    "       'internal_movement_restrictions', 'international_movement_restrictions', 'testing_policy']]"
   ]
  },
  {
   "cell_type": "code",
   "execution_count": null,
   "metadata": {},
   "outputs": [],
   "source": []
  }
 ],
 "metadata": {
  "interpreter": {
   "hash": "1b782a5f62ee72cc8b142f9bad4af9d6c91faa716779f818d5f44410d82c8c64"
  },
  "kernelspec": {
   "display_name": "Python 3.8.10 64-bit ('tsa_env': venv)",
   "name": "python3"
  },
  "language_info": {
   "codemirror_mode": {
    "name": "ipython",
    "version": 3
   },
   "file_extension": ".py",
   "mimetype": "text/x-python",
   "name": "python",
   "nbconvert_exporter": "python",
   "pygments_lexer": "ipython3",
   "version": "3.8.10"
  },
  "orig_nbformat": 4
 },
 "nbformat": 4,
 "nbformat_minor": 2
}
